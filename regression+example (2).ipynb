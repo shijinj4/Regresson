{
 "cells": [
  {
   "cell_type": "code",
   "execution_count": 49,
   "metadata": {},
   "outputs": [
    {
     "name": "stdout",
     "output_type": "stream",
     "text": [
      "[[ 0.9871134]]\n",
      "[ 1.6443299]\n",
      "the linear model is y= [ 1.6443299] + [[ 0.9871134]] X\n"
     ]
    },
    {
     "data": {
      "image/png": "[encoded data removed]",
      "text/plain": [
       "<matplotlib.figure.Figure at 0x1a18725898>"
      ]
     },
     "metadata": {},
     "output_type": "display_data"
    },
    {
     "name": "stdout",
     "output_type": "stream",
     "text": [
      "0.665606396109\n"
     ]
    }
   ],
   "source": [
    "import numpy as np\n",
    "from sklearn.linear_model import LinearRegression\n",
    "import matplotlib.pyplot as plt\n",
    "\n",
    "X=[8,9,11,16,12]\n",
    "y=[11,8.5,15,18,11]\n",
    "\n",
    "\n",
    "X=np.array(X).reshape(-1,1)    #reshape(-1,-1) is used when we have only single feature, -1 tells to determine no of rows by itself\n",
    "y=np.array(y).reshape(-1,1)\n",
    "\n",
    "\n",
    "model=LinearRegression()\n",
    "model.fit(X,y)\n",
    "\n",
    "print(model.coef_)\n",
    "print(model.intercept_)\n",
    "\n",
    "ynew=model.predict(X)\n",
    "\n",
    "print(\"the linear model is y=\",model.intercept_,\"+\",model.coef_,\"X\")\n",
    "\n",
    "plt.plot(X,y,'.')\n",
    "plt.plot(X,ynew,'-')\n",
    "#plt.axis([0,20,0,20])\n",
    "plt.grid(True)\n",
    "plt.show()\n",
    "\n",
    "# Calculating Score\n",
    "score=model.score(X,y)\n",
    "print(score)\n"
   ]
  },
  {
   "cell_type": "markdown",
   "metadata": {},
   "source": [
    "# Without using LinearRegression()"
   ]
  },
  {
   "cell_type": "code",
   "execution_count": 50,
   "metadata": {},
   "outputs": [
    {
     "name": "stdout",
     "output_type": "stream",
     "text": [
      "0.987113402062\n",
      "1.64432989691\n",
      "linear model is 1.64432989691 + 0.987113402062 x\n"
     ]
    }
   ],
   "source": [
    "import numpy as np\n",
    "\n",
    "X=[8,9,11,16,12]\n",
    "y=[11,8.5,15,18,11]\n",
    "\n",
    "var=np.var(X,ddof=1)\n",
    "cov=np.cov(X,y,ddof=1)[0][1]   #[0][1] takes cov(X,y)\n",
    "\n",
    "\n",
    "\n",
    "theta1=cov/var\n",
    "print(theta1)\n",
    "\n",
    "xbar=np.mean(X)\n",
    "ybar=np.mean(y)\n",
    "\n",
    "#print(xbar)\n",
    "#print(ybar)\n",
    "\n",
    "theta0=ybar-(theta1*xbar)\n",
    "print(theta0)\n",
    "\n",
    "print(\"linear model is\",theta0,\"+\",theta1,\"x\")\n",
    "\n"
   ]
  },
  {
   "cell_type": "code",
   "execution_count": null,
   "metadata": {
    "collapsed": true
   },
   "outputs": [],
   "source": []
  }
 ],
 "metadata": {
  "kernelspec": {
   "display_name": "Python 3",
   "language": "python",
   "name": "python3"
  },
  "language_info": {
   "codemirror_mode": {
    "name": "ipython",
    "version": 3
   },
   "file_extension": ".py",
   "mimetype": "text/x-python",
   "name": "python",
   "nbconvert_exporter": "python",
   "pygments_lexer": "ipython3",
   "version": "3.6.3"
  }
 },
 "nbformat": 4,
 "nbformat_minor": 2
}
